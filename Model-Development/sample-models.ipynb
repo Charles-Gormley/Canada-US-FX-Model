{
 "cells": [
  {
   "cell_type": "code",
   "execution_count": 5,
   "metadata": {},
   "outputs": [],
   "source": [
    "# Standard Data Science Libraries\n",
    "import pandas as pd\n",
    "import numpy as np\n",
    "\n",
    "# Preprocessing\n",
    "from sklearn.compose import ColumnTransformer\n",
    "from sklearn.pipeline import Pipeline\n",
    "from sklearn.preprocessing import StandardScaler, OneHotEncoder, OrdinalEncoder\n",
    "from sklearn.cluster import KMeans\n",
    "from sklearn.impute import SimpleImputer\n",
    "from sklearn.linear_model import LogisticRegression\n",
    "\n",
    "# Models\n"
   ]
  },
  {
   "cell_type": "code",
   "execution_count": 3,
   "metadata": {},
   "outputs": [
    {
     "ename": "NameError",
     "evalue": "name 'X' is not defined",
     "output_type": "error",
     "traceback": [
      "\u001b[1;31m---------------------------------------------------------------------------\u001b[0m",
      "\u001b[1;31mNameError\u001b[0m                                 Traceback (most recent call last)",
      "Cell \u001b[1;32mIn[3], line 34\u001b[0m\n\u001b[0;32m     32\u001b[0m categorical_transformer \u001b[39m=\u001b[39m OneHotEncoder(drop\u001b[39m=\u001b[39m\u001b[39m'\u001b[39m\u001b[39mfirst\u001b[39m\u001b[39m'\u001b[39m)\n\u001b[0;32m     33\u001b[0m raw_date_column \u001b[39m=\u001b[39m [\u001b[39m'\u001b[39m\u001b[39mdate\u001b[39m\u001b[39m'\u001b[39m]\n\u001b[1;32m---> 34\u001b[0m numerical_features \u001b[39m=\u001b[39m X\u001b[39m.\u001b[39mcolumns\u001b[39m.\u001b[39mremove(raw_date_column)\n\u001b[0;32m     35\u001b[0m onehot_categorical_features \u001b[39m=\u001b[39m [\u001b[39m'\u001b[39m\u001b[39mday\u001b[39m\u001b[39m'\u001b[39m, \u001b[39m'\u001b[39m\u001b[39mhour\u001b[39m\u001b[39m'\u001b[39m, \u001b[39m'\u001b[39m\u001b[39mquarter\u001b[39m\u001b[39m'\u001b[39m, \u001b[39m'\u001b[39m\u001b[39mm\u001b[39m\u001b[39m'\u001b[39m]\n\u001b[0;32m     36\u001b[0m ordinal_categorical_features \u001b[39m=\u001b[39m [\u001b[39m'\u001b[39m\u001b[39mminute\u001b[39m\u001b[39m'\u001b[39m, \u001b[39m'\u001b[39m\u001b[39my\u001b[39m\u001b[39m'\u001b[39m]\n",
      "\u001b[1;31mNameError\u001b[0m: name 'X' is not defined"
     ]
    }
   ],
   "source": [
    "# Training Pipeline\n",
    "df = pd.read_pickle('appml-assignment1-dataset-v2.pkl')\n",
    "\n",
    "df_x = pd.DataFrame(df['X'])\n",
    "df_y = pd.Series(df['y'])\n",
    "\n",
    "# a) Fill in missing values & standardize numerical features\n",
    "numerical_transformer = Pipeline(steps=[\n",
    "    ('imputer', SimpleImputer(strategy='mean')),\n",
    "    ('scaler', StandardScaler())\n",
    "])\n",
    "\n",
    "# b) Process date feature - this will require custom transformers\n",
    "from sklearn.base import BaseEstimator, TransformerMixin\n",
    "\n",
    "class DateTransformer(BaseEstimator, TransformerMixin):\n",
    "    def fit(self, X, y=None):\n",
    "        \n",
    "        return self\n",
    "    \n",
    "    def transform(self, X, y=None):\n",
    "        df_x = X.copy()\n",
    "\n",
    "        df_x['day'] = df_x['date'].dt.dayofweek\n",
    "        df_x['m'] = df_x['date'].dt.month\n",
    "        df_x['y'] = df_x['date'].dt.year\n",
    "        df_x['quarter'] = df_x['date'].dt.quarter\n",
    "        df_x['hour'] = df_x['date'].dt.hour\n",
    "        df_x['minute'] = df_x['date'].dt.minute\n",
    "\n",
    "        df_x = df_x.drop(columns=['date'])\n",
    "        return df_x\n",
    "\n",
    "# c) One-hot encoding\n",
    "categorical_transformer = OneHotEncoder()\n",
    "ordinal_transformer = OrdinalEncoder()\n",
    "\n",
    "raw_date_column = ['date']\n",
    "numerical_features = df_x.columns.remove(raw_date_column)\n",
    "onehot_categorical_features = ['day', 'hour', 'quarter', 'm']\n",
    "ordinal_categorical_features = ['minute', 'y']\n",
    "\n",
    "preprocessor = ColumnTransformer(\n",
    "    transformers=[\n",
    "        ('num', numerical_transformer, numerical_features),\n",
    "        ('date', DateTransformer(), ['date']),\n",
    "        ('one_cat', categorical_transformer, onehot_categorical_features),\n",
    "        ('ordcat', ordinal_transformer, ordinal_categorical_features)\n",
    "    ])\n",
    "\n",
    "pipeline = Pipeline(steps=[('preprocessor', preprocessor),\n",
    "                           ('regressor', LogisticRegression)])"
   ]
  },
  {
   "cell_type": "code",
   "execution_count": null,
   "metadata": {},
   "outputs": [],
   "source": []
  }
 ],
 "metadata": {
  "kernelspec": {
   "display_name": "Python 3",
   "language": "python",
   "name": "python3"
  },
  "language_info": {
   "codemirror_mode": {
    "name": "ipython",
    "version": 3
   },
   "file_extension": ".py",
   "mimetype": "text/x-python",
   "name": "python",
   "nbconvert_exporter": "python",
   "pygments_lexer": "ipython3",
   "version": "3.10.0"
  },
  "orig_nbformat": 4
 },
 "nbformat": 4,
 "nbformat_minor": 2
}
